{
 "cells": [
  {
   "cell_type": "markdown",
   "id": "d46655f4",
   "metadata": {},
   "source": [
    "# Определение приоритезации источников рекламы"
   ]
  },
  {
   "cell_type": "markdown",
   "id": "3329b87a",
   "metadata": {},
   "source": [
    "В «Космические братья» пользователи строят свою космическую программу и пытаются преуспеть в нелёгком деле колонизации галактики.\n",
    "Основная монетизация игры — только планируется. Но предполагается, что в приложении будет происходить показ рекламы на экране с выбором типа объекта для постройки.\n",
    "\n",
    "В датасете представлены данные по игре пользователей на первом уровне. Завершение первого уровня требует от игрока выполнения одного из двух условий:\n",
    "\n",
    "- Победа над первым врагом\n",
    "- Реализация проекта - разработка орбитальной сборки спутников\n",
    "\n",
    "В датасете содержатся данные первых пользователей приложения — когорты пользователей, которые начали пользоваться приложением в период с 4 по 10 мая включительно.\n",
    "\n",
    "**Цель исследования:** определить какой источник рекламы эффекивнее и приоритизировать источники\n",
    "\n",
    "**Ход исследования:**\n",
    "\n",
    "- Изучить общую информацию о датасетах;\n",
    "- Предобработка данных;\n",
    "- Исследовательский анализ;\n",
    "- Проверка гипотез.\n",
    "\n",
    "**Описание данных:**\n",
    "\n",
    "Датасет *game_actions.csv*:\n",
    "\n",
    "- `event_datetime` — время события;\n",
    "- `event` — одно из трёх событий:\n",
    "    1. `building` — объект построен,\n",
    "    2. `finished_stage_1` — первый уровень завершён,\n",
    "    3. `project` — проект завершён;\n",
    "- `building_type` — один из трёх типов здания:\n",
    "    1. `assembly_shop` — сборочный цех,\n",
    "    2. `spaceport` — космопорт,\n",
    "    3. `research_center` — исследовательский центр;\n",
    "- `user_id` — идентификатор пользователя;\n",
    "- `project_type` — тип реализованного проекта;\n",
    "\n",
    "Датасет *ad_costs.csv*:\n",
    "\n",
    "- `day` - день, в который был совершен клик по объявлению\n",
    "- `source` - источник трафика\n",
    "- `cost` - стоимость кликов\n",
    "\n",
    "Датасет *user_source.csv* содержит колонки:\n",
    "\n",
    "- `user_id` - идентификатор пользователя\n",
    "- `source` - источников, с которого пришёл пользователь, установивший приложение"
   ]
  },
  {
   "cell_type": "markdown",
   "id": "d95414a4",
   "metadata": {},
   "source": [
    "###  Общая информция о датасетах"
   ]
  },
  {
   "cell_type": "code",
   "execution_count": 1,
   "id": "0c7bb3fc",
   "metadata": {},
   "outputs": [],
   "source": [
    "# импортируем необходимые библиотеки\n",
    "import pandas as pd\n",
    "import matplotlib.pyplot as plt\n",
    "import numpy as np\n",
    "import seaborn as sns\n",
    "from datetime import datetime, timedelta\n",
    "import plotly.express as px\n",
    "from scipy import stats as st"
   ]
  },
  {
   "cell_type": "code",
   "execution_count": 2,
   "id": "ec7e4da7",
   "metadata": {},
   "outputs": [],
   "source": [
    "# загрузим и прочитаем датасеты\n",
    "try:\n",
    "    costs = pd.read_csv('~/Downloads/ad_costs.csv')\n",
    "    actions = pd.read_csv('~/Downloads/game_actions.csv')\n",
    "    source = pd.read_csv('~/Downloads/user_source.csv')\n",
    "    \n",
    "except:\n",
    "    costs = pd.read_csv('https://code.s3.yandex.net/datasets/ad_costs.csv')\n",
    "    actions = pd.read_csv('https://code.s3.yandex.net/datasets/game_actions.csv')\n",
    "    source = pd.read_csv('https://code.s3.yandex.net/datasets/user_source.csv')\n",
    "    "
   ]
  },
  {
   "cell_type": "code",
   "execution_count": 3,
   "id": "cb11ad70",
   "metadata": {},
   "outputs": [],
   "source": [
    "# создадим функцию для первичной проверки датасетов \n",
    "\n",
    "def first_check(dataset):\n",
    "\n",
    "    print('Первые 5 строк таблицы: \\n')\n",
    "    display(dataset.head())\n",
    "\n",
    "    print('-'*50)\n",
    "    print('Информация о таблице: \\n')   \n",
    "    dataset.info()\n",
    "\n",
    "    print('-'*50)\n",
    "    print('Распределение данных в таблице: \\n')  \n",
    "    display(dataset.describe())\n",
    "\n",
    "    print('-'*50)\n",
    "    print('Название колонок: \\n')  \n",
    "    print(dataset.columns)\n",
    "    \n",
    "    print('-'*50)\n",
    "    print('Количество пропущенных значений: \\n')\n",
    "    display(dataset.isna().sum())\n",
    "    \n",
    "    print('-'*50)\n",
    "    print('Количество дубликатов: {}\\n'.format(dataset.duplicated().sum()))"
   ]
  },
  {
   "cell_type": "markdown",
   "id": "98782763",
   "metadata": {},
   "source": [
    "Просмотрим основную информацию о датасетах:"
   ]
  },
  {
   "cell_type": "code",
   "execution_count": 4,
   "id": "18015929",
   "metadata": {},
   "outputs": [
    {
     "name": "stdout",
     "output_type": "stream",
     "text": [
      "Первые 5 строк таблицы: \n",
      "\n"
     ]
    },
    {
     "data": {
      "text/html": [
       "<div>\n",
       "<style scoped>\n",
       "    .dataframe tbody tr th:only-of-type {\n",
       "        vertical-align: middle;\n",
       "    }\n",
       "\n",
       "    .dataframe tbody tr th {\n",
       "        vertical-align: top;\n",
       "    }\n",
       "\n",
       "    .dataframe thead th {\n",
       "        text-align: right;\n",
       "    }\n",
       "</style>\n",
       "<table border=\"1\" class=\"dataframe\">\n",
       "  <thead>\n",
       "    <tr style=\"text-align: right;\">\n",
       "      <th></th>\n",
       "      <th>event_datetime</th>\n",
       "      <th>event</th>\n",
       "      <th>building_type</th>\n",
       "      <th>user_id</th>\n",
       "      <th>project_type</th>\n",
       "    </tr>\n",
       "  </thead>\n",
       "  <tbody>\n",
       "    <tr>\n",
       "      <th>0</th>\n",
       "      <td>2020-05-04 00:00:01</td>\n",
       "      <td>building</td>\n",
       "      <td>assembly_shop</td>\n",
       "      <td>55e92310-cb8e-4754-b622-597e124b03de</td>\n",
       "      <td>NaN</td>\n",
       "    </tr>\n",
       "    <tr>\n",
       "      <th>1</th>\n",
       "      <td>2020-05-04 00:00:03</td>\n",
       "      <td>building</td>\n",
       "      <td>assembly_shop</td>\n",
       "      <td>c07b1c10-f477-44dc-81dc-ec82254b1347</td>\n",
       "      <td>NaN</td>\n",
       "    </tr>\n",
       "    <tr>\n",
       "      <th>2</th>\n",
       "      <td>2020-05-04 00:00:16</td>\n",
       "      <td>building</td>\n",
       "      <td>assembly_shop</td>\n",
       "      <td>6edd42cc-e753-4ff6-a947-2107cd560710</td>\n",
       "      <td>NaN</td>\n",
       "    </tr>\n",
       "    <tr>\n",
       "      <th>3</th>\n",
       "      <td>2020-05-04 00:00:16</td>\n",
       "      <td>building</td>\n",
       "      <td>assembly_shop</td>\n",
       "      <td>92c69003-d60a-444a-827f-8cc51bf6bf4c</td>\n",
       "      <td>NaN</td>\n",
       "    </tr>\n",
       "    <tr>\n",
       "      <th>4</th>\n",
       "      <td>2020-05-04 00:00:35</td>\n",
       "      <td>building</td>\n",
       "      <td>assembly_shop</td>\n",
       "      <td>cdc6bb92-0ccb-4490-9866-ef142f09139d</td>\n",
       "      <td>NaN</td>\n",
       "    </tr>\n",
       "  </tbody>\n",
       "</table>\n",
       "</div>"
      ],
      "text/plain": [
       "        event_datetime     event  building_type  \\\n",
       "0  2020-05-04 00:00:01  building  assembly_shop   \n",
       "1  2020-05-04 00:00:03  building  assembly_shop   \n",
       "2  2020-05-04 00:00:16  building  assembly_shop   \n",
       "3  2020-05-04 00:00:16  building  assembly_shop   \n",
       "4  2020-05-04 00:00:35  building  assembly_shop   \n",
       "\n",
       "                                user_id project_type  \n",
       "0  55e92310-cb8e-4754-b622-597e124b03de          NaN  \n",
       "1  c07b1c10-f477-44dc-81dc-ec82254b1347          NaN  \n",
       "2  6edd42cc-e753-4ff6-a947-2107cd560710          NaN  \n",
       "3  92c69003-d60a-444a-827f-8cc51bf6bf4c          NaN  \n",
       "4  cdc6bb92-0ccb-4490-9866-ef142f09139d          NaN  "
      ]
     },
     "metadata": {},
     "output_type": "display_data"
    },
    {
     "name": "stdout",
     "output_type": "stream",
     "text": [
      "--------------------------------------------------\n",
      "Информация о таблице: \n",
      "\n",
      "<class 'pandas.core.frame.DataFrame'>\n",
      "RangeIndex: 135640 entries, 0 to 135639\n",
      "Data columns (total 5 columns):\n",
      " #   Column          Non-Null Count   Dtype \n",
      "---  ------          --------------   ----- \n",
      " 0   event_datetime  135640 non-null  object\n",
      " 1   event           135640 non-null  object\n",
      " 2   building_type   127957 non-null  object\n",
      " 3   user_id         135640 non-null  object\n",
      " 4   project_type    1866 non-null    object\n",
      "dtypes: object(5)\n",
      "memory usage: 5.2+ MB\n",
      "--------------------------------------------------\n",
      "Распределение данных в таблице: \n",
      "\n"
     ]
    },
    {
     "data": {
      "text/html": [
       "<div>\n",
       "<style scoped>\n",
       "    .dataframe tbody tr th:only-of-type {\n",
       "        vertical-align: middle;\n",
       "    }\n",
       "\n",
       "    .dataframe tbody tr th {\n",
       "        vertical-align: top;\n",
       "    }\n",
       "\n",
       "    .dataframe thead th {\n",
       "        text-align: right;\n",
       "    }\n",
       "</style>\n",
       "<table border=\"1\" class=\"dataframe\">\n",
       "  <thead>\n",
       "    <tr style=\"text-align: right;\">\n",
       "      <th></th>\n",
       "      <th>event_datetime</th>\n",
       "      <th>event</th>\n",
       "      <th>building_type</th>\n",
       "      <th>user_id</th>\n",
       "      <th>project_type</th>\n",
       "    </tr>\n",
       "  </thead>\n",
       "  <tbody>\n",
       "    <tr>\n",
       "      <th>count</th>\n",
       "      <td>135640</td>\n",
       "      <td>135640</td>\n",
       "      <td>127957</td>\n",
       "      <td>135640</td>\n",
       "      <td>1866</td>\n",
       "    </tr>\n",
       "    <tr>\n",
       "      <th>unique</th>\n",
       "      <td>128790</td>\n",
       "      <td>3</td>\n",
       "      <td>3</td>\n",
       "      <td>13576</td>\n",
       "      <td>1</td>\n",
       "    </tr>\n",
       "    <tr>\n",
       "      <th>top</th>\n",
       "      <td>2020-05-09 12:35:56</td>\n",
       "      <td>building</td>\n",
       "      <td>spaceport</td>\n",
       "      <td>bf542075-e3a2-4e79-82d8-3838e86d2a25</td>\n",
       "      <td>satellite_orbital_assembly</td>\n",
       "    </tr>\n",
       "    <tr>\n",
       "      <th>freq</th>\n",
       "      <td>4</td>\n",
       "      <td>127957</td>\n",
       "      <td>59325</td>\n",
       "      <td>22</td>\n",
       "      <td>1866</td>\n",
       "    </tr>\n",
       "  </tbody>\n",
       "</table>\n",
       "</div>"
      ],
      "text/plain": [
       "             event_datetime     event building_type  \\\n",
       "count                135640    135640        127957   \n",
       "unique               128790         3             3   \n",
       "top     2020-05-09 12:35:56  building     spaceport   \n",
       "freq                      4    127957         59325   \n",
       "\n",
       "                                     user_id                project_type  \n",
       "count                                 135640                        1866  \n",
       "unique                                 13576                           1  \n",
       "top     bf542075-e3a2-4e79-82d8-3838e86d2a25  satellite_orbital_assembly  \n",
       "freq                                      22                        1866  "
      ]
     },
     "metadata": {},
     "output_type": "display_data"
    },
    {
     "name": "stdout",
     "output_type": "stream",
     "text": [
      "--------------------------------------------------\n",
      "Название колонок: \n",
      "\n",
      "Index(['event_datetime', 'event', 'building_type', 'user_id', 'project_type'], dtype='object')\n",
      "--------------------------------------------------\n",
      "Количество пропущенных значений: \n",
      "\n"
     ]
    },
    {
     "data": {
      "text/plain": [
       "event_datetime         0\n",
       "event                  0\n",
       "building_type       7683\n",
       "user_id                0\n",
       "project_type      133774\n",
       "dtype: int64"
      ]
     },
     "metadata": {},
     "output_type": "display_data"
    },
    {
     "name": "stdout",
     "output_type": "stream",
     "text": [
      "--------------------------------------------------\n",
      "Количество дубликатов: 1\n",
      "\n"
     ]
    }
   ],
   "source": [
    "first_check(actions)"
   ]
  },
  {
   "cell_type": "markdown",
   "id": "634cab2d",
   "metadata": {},
   "source": [
    "Удалим 1 дубликат:"
   ]
  },
  {
   "cell_type": "code",
   "execution_count": 5,
   "id": "a018c15e",
   "metadata": {},
   "outputs": [],
   "source": [
    "actions=actions.drop_duplicates()"
   ]
  },
  {
   "cell_type": "code",
   "execution_count": 6,
   "id": "b2b8b95b",
   "metadata": {},
   "outputs": [
    {
     "name": "stdout",
     "output_type": "stream",
     "text": [
      "Первые 5 строк таблицы: \n",
      "\n"
     ]
    },
    {
     "data": {
      "text/html": [
       "<div>\n",
       "<style scoped>\n",
       "    .dataframe tbody tr th:only-of-type {\n",
       "        vertical-align: middle;\n",
       "    }\n",
       "\n",
       "    .dataframe tbody tr th {\n",
       "        vertical-align: top;\n",
       "    }\n",
       "\n",
       "    .dataframe thead th {\n",
       "        text-align: right;\n",
       "    }\n",
       "</style>\n",
       "<table border=\"1\" class=\"dataframe\">\n",
       "  <thead>\n",
       "    <tr style=\"text-align: right;\">\n",
       "      <th></th>\n",
       "      <th>source</th>\n",
       "      <th>day</th>\n",
       "      <th>cost</th>\n",
       "    </tr>\n",
       "  </thead>\n",
       "  <tbody>\n",
       "    <tr>\n",
       "      <th>0</th>\n",
       "      <td>facebook_ads</td>\n",
       "      <td>2020-05-03</td>\n",
       "      <td>935.882786</td>\n",
       "    </tr>\n",
       "    <tr>\n",
       "      <th>1</th>\n",
       "      <td>facebook_ads</td>\n",
       "      <td>2020-05-04</td>\n",
       "      <td>548.354480</td>\n",
       "    </tr>\n",
       "    <tr>\n",
       "      <th>2</th>\n",
       "      <td>facebook_ads</td>\n",
       "      <td>2020-05-05</td>\n",
       "      <td>260.185754</td>\n",
       "    </tr>\n",
       "    <tr>\n",
       "      <th>3</th>\n",
       "      <td>facebook_ads</td>\n",
       "      <td>2020-05-06</td>\n",
       "      <td>177.982200</td>\n",
       "    </tr>\n",
       "    <tr>\n",
       "      <th>4</th>\n",
       "      <td>facebook_ads</td>\n",
       "      <td>2020-05-07</td>\n",
       "      <td>111.766796</td>\n",
       "    </tr>\n",
       "  </tbody>\n",
       "</table>\n",
       "</div>"
      ],
      "text/plain": [
       "         source         day        cost\n",
       "0  facebook_ads  2020-05-03  935.882786\n",
       "1  facebook_ads  2020-05-04  548.354480\n",
       "2  facebook_ads  2020-05-05  260.185754\n",
       "3  facebook_ads  2020-05-06  177.982200\n",
       "4  facebook_ads  2020-05-07  111.766796"
      ]
     },
     "metadata": {},
     "output_type": "display_data"
    },
    {
     "name": "stdout",
     "output_type": "stream",
     "text": [
      "--------------------------------------------------\n",
      "Информация о таблице: \n",
      "\n",
      "<class 'pandas.core.frame.DataFrame'>\n",
      "RangeIndex: 28 entries, 0 to 27\n",
      "Data columns (total 3 columns):\n",
      " #   Column  Non-Null Count  Dtype  \n",
      "---  ------  --------------  -----  \n",
      " 0   source  28 non-null     object \n",
      " 1   day     28 non-null     object \n",
      " 2   cost    28 non-null     float64\n",
      "dtypes: float64(1), object(2)\n",
      "memory usage: 800.0+ bytes\n",
      "--------------------------------------------------\n",
      "Распределение данных в таблице: \n",
      "\n"
     ]
    },
    {
     "data": {
      "text/html": [
       "<div>\n",
       "<style scoped>\n",
       "    .dataframe tbody tr th:only-of-type {\n",
       "        vertical-align: middle;\n",
       "    }\n",
       "\n",
       "    .dataframe tbody tr th {\n",
       "        vertical-align: top;\n",
       "    }\n",
       "\n",
       "    .dataframe thead th {\n",
       "        text-align: right;\n",
       "    }\n",
       "</style>\n",
       "<table border=\"1\" class=\"dataframe\">\n",
       "  <thead>\n",
       "    <tr style=\"text-align: right;\">\n",
       "      <th></th>\n",
       "      <th>cost</th>\n",
       "    </tr>\n",
       "  </thead>\n",
       "  <tbody>\n",
       "    <tr>\n",
       "      <th>count</th>\n",
       "      <td>28.000000</td>\n",
       "    </tr>\n",
       "    <tr>\n",
       "      <th>mean</th>\n",
       "      <td>271.556321</td>\n",
       "    </tr>\n",
       "    <tr>\n",
       "      <th>std</th>\n",
       "      <td>286.867650</td>\n",
       "    </tr>\n",
       "    <tr>\n",
       "      <th>min</th>\n",
       "      <td>23.314669</td>\n",
       "    </tr>\n",
       "    <tr>\n",
       "      <th>25%</th>\n",
       "      <td>66.747365</td>\n",
       "    </tr>\n",
       "    <tr>\n",
       "      <th>50%</th>\n",
       "      <td>160.056443</td>\n",
       "    </tr>\n",
       "    <tr>\n",
       "      <th>75%</th>\n",
       "      <td>349.034473</td>\n",
       "    </tr>\n",
       "    <tr>\n",
       "      <th>max</th>\n",
       "      <td>969.139394</td>\n",
       "    </tr>\n",
       "  </tbody>\n",
       "</table>\n",
       "</div>"
      ],
      "text/plain": [
       "             cost\n",
       "count   28.000000\n",
       "mean   271.556321\n",
       "std    286.867650\n",
       "min     23.314669\n",
       "25%     66.747365\n",
       "50%    160.056443\n",
       "75%    349.034473\n",
       "max    969.139394"
      ]
     },
     "metadata": {},
     "output_type": "display_data"
    },
    {
     "name": "stdout",
     "output_type": "stream",
     "text": [
      "--------------------------------------------------\n",
      "Название колонок: \n",
      "\n",
      "Index(['source', 'day', 'cost'], dtype='object')\n",
      "--------------------------------------------------\n",
      "Количество пропущенных значений: \n",
      "\n"
     ]
    },
    {
     "data": {
      "text/plain": [
       "source    0\n",
       "day       0\n",
       "cost      0\n",
       "dtype: int64"
      ]
     },
     "metadata": {},
     "output_type": "display_data"
    },
    {
     "name": "stdout",
     "output_type": "stream",
     "text": [
      "--------------------------------------------------\n",
      "Количество дубликатов: 0\n",
      "\n"
     ]
    }
   ],
   "source": [
    "first_check(costs)"
   ]
  },
  {
   "cell_type": "code",
   "execution_count": 7,
   "id": "8eed3fb0",
   "metadata": {},
   "outputs": [
    {
     "name": "stdout",
     "output_type": "stream",
     "text": [
      "Первые 5 строк таблицы: \n",
      "\n"
     ]
    },
    {
     "data": {
      "text/html": [
       "<div>\n",
       "<style scoped>\n",
       "    .dataframe tbody tr th:only-of-type {\n",
       "        vertical-align: middle;\n",
       "    }\n",
       "\n",
       "    .dataframe tbody tr th {\n",
       "        vertical-align: top;\n",
       "    }\n",
       "\n",
       "    .dataframe thead th {\n",
       "        text-align: right;\n",
       "    }\n",
       "</style>\n",
       "<table border=\"1\" class=\"dataframe\">\n",
       "  <thead>\n",
       "    <tr style=\"text-align: right;\">\n",
       "      <th></th>\n",
       "      <th>user_id</th>\n",
       "      <th>source</th>\n",
       "    </tr>\n",
       "  </thead>\n",
       "  <tbody>\n",
       "    <tr>\n",
       "      <th>0</th>\n",
       "      <td>0001f83c-c6ac-4621-b7f0-8a28b283ac30</td>\n",
       "      <td>facebook_ads</td>\n",
       "    </tr>\n",
       "    <tr>\n",
       "      <th>1</th>\n",
       "      <td>00151b4f-ba38-44a8-a650-d7cf130a0105</td>\n",
       "      <td>yandex_direct</td>\n",
       "    </tr>\n",
       "    <tr>\n",
       "      <th>2</th>\n",
       "      <td>001aaea6-3d14-43f1-8ca8-7f48820f17aa</td>\n",
       "      <td>youtube_channel_reklama</td>\n",
       "    </tr>\n",
       "    <tr>\n",
       "      <th>3</th>\n",
       "      <td>001d39dc-366c-4021-9604-6a3b9ff01e25</td>\n",
       "      <td>instagram_new_adverts</td>\n",
       "    </tr>\n",
       "    <tr>\n",
       "      <th>4</th>\n",
       "      <td>002f508f-67b6-479f-814b-b05f00d4e995</td>\n",
       "      <td>facebook_ads</td>\n",
       "    </tr>\n",
       "  </tbody>\n",
       "</table>\n",
       "</div>"
      ],
      "text/plain": [
       "                                user_id                   source\n",
       "0  0001f83c-c6ac-4621-b7f0-8a28b283ac30             facebook_ads\n",
       "1  00151b4f-ba38-44a8-a650-d7cf130a0105            yandex_direct\n",
       "2  001aaea6-3d14-43f1-8ca8-7f48820f17aa  youtube_channel_reklama\n",
       "3  001d39dc-366c-4021-9604-6a3b9ff01e25    instagram_new_adverts\n",
       "4  002f508f-67b6-479f-814b-b05f00d4e995             facebook_ads"
      ]
     },
     "metadata": {},
     "output_type": "display_data"
    },
    {
     "name": "stdout",
     "output_type": "stream",
     "text": [
      "--------------------------------------------------\n",
      "Информация о таблице: \n",
      "\n",
      "<class 'pandas.core.frame.DataFrame'>\n",
      "RangeIndex: 13576 entries, 0 to 13575\n",
      "Data columns (total 2 columns):\n",
      " #   Column   Non-Null Count  Dtype \n",
      "---  ------   --------------  ----- \n",
      " 0   user_id  13576 non-null  object\n",
      " 1   source   13576 non-null  object\n",
      "dtypes: object(2)\n",
      "memory usage: 212.2+ KB\n",
      "--------------------------------------------------\n",
      "Распределение данных в таблице: \n",
      "\n"
     ]
    },
    {
     "data": {
      "text/html": [
       "<div>\n",
       "<style scoped>\n",
       "    .dataframe tbody tr th:only-of-type {\n",
       "        vertical-align: middle;\n",
       "    }\n",
       "\n",
       "    .dataframe tbody tr th {\n",
       "        vertical-align: top;\n",
       "    }\n",
       "\n",
       "    .dataframe thead th {\n",
       "        text-align: right;\n",
       "    }\n",
       "</style>\n",
       "<table border=\"1\" class=\"dataframe\">\n",
       "  <thead>\n",
       "    <tr style=\"text-align: right;\">\n",
       "      <th></th>\n",
       "      <th>user_id</th>\n",
       "      <th>source</th>\n",
       "    </tr>\n",
       "  </thead>\n",
       "  <tbody>\n",
       "    <tr>\n",
       "      <th>count</th>\n",
       "      <td>13576</td>\n",
       "      <td>13576</td>\n",
       "    </tr>\n",
       "    <tr>\n",
       "      <th>unique</th>\n",
       "      <td>13576</td>\n",
       "      <td>4</td>\n",
       "    </tr>\n",
       "    <tr>\n",
       "      <th>top</th>\n",
       "      <td>0001f83c-c6ac-4621-b7f0-8a28b283ac30</td>\n",
       "      <td>yandex_direct</td>\n",
       "    </tr>\n",
       "    <tr>\n",
       "      <th>freq</th>\n",
       "      <td>1</td>\n",
       "      <td>4817</td>\n",
       "    </tr>\n",
       "  </tbody>\n",
       "</table>\n",
       "</div>"
      ],
      "text/plain": [
       "                                     user_id         source\n",
       "count                                  13576          13576\n",
       "unique                                 13576              4\n",
       "top     0001f83c-c6ac-4621-b7f0-8a28b283ac30  yandex_direct\n",
       "freq                                       1           4817"
      ]
     },
     "metadata": {},
     "output_type": "display_data"
    },
    {
     "name": "stdout",
     "output_type": "stream",
     "text": [
      "--------------------------------------------------\n",
      "Название колонок: \n",
      "\n",
      "Index(['user_id', 'source'], dtype='object')\n",
      "--------------------------------------------------\n",
      "Количество пропущенных значений: \n",
      "\n"
     ]
    },
    {
     "data": {
      "text/plain": [
       "user_id    0\n",
       "source     0\n",
       "dtype: int64"
      ]
     },
     "metadata": {},
     "output_type": "display_data"
    },
    {
     "name": "stdout",
     "output_type": "stream",
     "text": [
      "--------------------------------------------------\n",
      "Количество дубликатов: 0\n",
      "\n"
     ]
    }
   ],
   "source": [
    "first_check(source)"
   ]
  },
  {
   "cell_type": "markdown",
   "id": "3855e4d5",
   "metadata": {},
   "source": [
    "Проверим на **неявные** дубликаты и ошибки в датасете:"
   ]
  },
  {
   "cell_type": "markdown",
   "id": "ecde707c",
   "metadata": {},
   "source": [
    "*Первая проверка по зданиям:* если построено здание без типа здания или есть проект у этого события"
   ]
  },
  {
   "cell_type": "code",
   "execution_count": 8,
   "id": "60464a72",
   "metadata": {},
   "outputs": [],
   "source": [
    "def check_building(actions):\n",
    "    '''\n",
    "    Функция проверяет, если в столбце \"event\" указано \"building\", то проверяет, \n",
    "    есть ли в столбце \"building_type\" пропуски или есть ли в столбце \"project_type\" значение.\n",
    "    '''\n",
    "    # Оставляем только строки, где в столбце \"event\" указано \"building\"\n",
    "    actions = actions[actions['event'] == 'building']\n",
    "    \n",
    "    # Проверяем, есть ли в столбце \"building_type\" пропуски\n",
    "    null_building = actions['building_type'].isnull()\n",
    "    \n",
    "    # Проверяем, есть ли в столбце \"project_type\" значение\n",
    "    not_null_project = actions['project_type'].notnull()\n",
    "    \n",
    "    # Возвращаем только строки, где выполнено одно из условий\n",
    "    res = actions[null_building | not_null_project]\n",
    "    \n",
    "    return res\n"
   ]
  },
  {
   "cell_type": "code",
   "execution_count": 9,
   "id": "0f185d9b",
   "metadata": {},
   "outputs": [
    {
     "data": {
      "text/html": [
       "<div>\n",
       "<style scoped>\n",
       "    .dataframe tbody tr th:only-of-type {\n",
       "        vertical-align: middle;\n",
       "    }\n",
       "\n",
       "    .dataframe tbody tr th {\n",
       "        vertical-align: top;\n",
       "    }\n",
       "\n",
       "    .dataframe thead th {\n",
       "        text-align: right;\n",
       "    }\n",
       "</style>\n",
       "<table border=\"1\" class=\"dataframe\">\n",
       "  <thead>\n",
       "    <tr style=\"text-align: right;\">\n",
       "      <th></th>\n",
       "      <th>event_datetime</th>\n",
       "      <th>event</th>\n",
       "      <th>building_type</th>\n",
       "      <th>user_id</th>\n",
       "      <th>project_type</th>\n",
       "    </tr>\n",
       "  </thead>\n",
       "  <tbody>\n",
       "  </tbody>\n",
       "</table>\n",
       "</div>"
      ],
      "text/plain": [
       "Empty DataFrame\n",
       "Columns: [event_datetime, event, building_type, user_id, project_type]\n",
       "Index: []"
      ]
     },
     "execution_count": 9,
     "metadata": {},
     "output_type": "execute_result"
    }
   ],
   "source": [
    "check_building(actions)"
   ]
  },
  {
   "cell_type": "markdown",
   "id": "d45d7228",
   "metadata": {},
   "source": [
    "таких ошибок нет."
   ]
  },
  {
   "cell_type": "markdown",
   "id": "71363a78",
   "metadata": {},
   "source": [
    "*Вторую проверку сделаем по проектам:* если есть проект без типа проекта или есть здание у этого события:"
   ]
  },
  {
   "cell_type": "code",
   "execution_count": 10,
   "id": "b0282345",
   "metadata": {},
   "outputs": [],
   "source": [
    "def check_project(actions):\n",
    "    '''\n",
    "    Функция проверяет, если в столбце \"event\" указано \"project\", то проверяет, \n",
    "    есть ли в столбце \"project_type\" пропуски или есть ли в столбце \"building_type\" значение.\n",
    "    '''\n",
    "    # Оставляем только строки, где в столбце \"event\" указано \"project\"\n",
    "    actions = actions[actions['event'] == 'project']\n",
    "    \n",
    "    # Проверяем, есть ли в столбце \"project_type\" пропуски\n",
    "    null_project = actions['project_type'].isnull()\n",
    "    \n",
    "    # Проверяем, есть ли в столбце \"building_type\" значение\n",
    "    not_null_building = actions['building_type'].notnull()\n",
    "    \n",
    "    # Возвращаем только строки, где выполнено одно из условий\n",
    "    res = actions[null_project | not_null_building]\n",
    "    \n",
    "    return res"
   ]
  },
  {
   "cell_type": "code",
   "execution_count": 11,
   "id": "d6200fa6",
   "metadata": {},
   "outputs": [
    {
     "data": {
      "text/html": [
       "<div>\n",
       "<style scoped>\n",
       "    .dataframe tbody tr th:only-of-type {\n",
       "        vertical-align: middle;\n",
       "    }\n",
       "\n",
       "    .dataframe tbody tr th {\n",
       "        vertical-align: top;\n",
       "    }\n",
       "\n",
       "    .dataframe thead th {\n",
       "        text-align: right;\n",
       "    }\n",
       "</style>\n",
       "<table border=\"1\" class=\"dataframe\">\n",
       "  <thead>\n",
       "    <tr style=\"text-align: right;\">\n",
       "      <th></th>\n",
       "      <th>event_datetime</th>\n",
       "      <th>event</th>\n",
       "      <th>building_type</th>\n",
       "      <th>user_id</th>\n",
       "      <th>project_type</th>\n",
       "    </tr>\n",
       "  </thead>\n",
       "  <tbody>\n",
       "  </tbody>\n",
       "</table>\n",
       "</div>"
      ],
      "text/plain": [
       "Empty DataFrame\n",
       "Columns: [event_datetime, event, building_type, user_id, project_type]\n",
       "Index: []"
      ]
     },
     "execution_count": 11,
     "metadata": {},
     "output_type": "execute_result"
    }
   ],
   "source": [
    "check_project(actions)"
   ]
  },
  {
   "cell_type": "markdown",
   "id": "e5d65776",
   "metadata": {},
   "source": [
    "таких ошибок тоже нет."
   ]
  },
  {
   "cell_type": "markdown",
   "id": "3daa863e",
   "metadata": {},
   "source": [
    "Теперь проверим по уникальным значениям в столбцах building_type и project_type."
   ]
  },
  {
   "cell_type": "code",
   "execution_count": 12,
   "id": "f5b703b3",
   "metadata": {},
   "outputs": [
    {
     "name": "stdout",
     "output_type": "stream",
     "text": [
      "здания: ['assembly_shop' 'spaceport' nan 'research_center']\n",
      "проекты: [nan 'satellite_orbital_assembly']\n"
     ]
    }
   ],
   "source": [
    "print('здания:', actions['building_type'].unique())\n",
    "print('проекты:', actions['project_type'].unique())"
   ]
  },
  {
   "cell_type": "markdown",
   "id": "0783c4f0",
   "metadata": {},
   "source": [
    "все названия типов зданий и проектов соответствуют ТЗ. "
   ]
  },
  {
   "cell_type": "code",
   "execution_count": 13,
   "id": "02a85e30",
   "metadata": {},
   "outputs": [
    {
     "data": {
      "text/plain": [
       "event_datetime       0\n",
       "event                0\n",
       "building_type     5817\n",
       "user_id              0\n",
       "project_type      5817\n",
       "dtype: int64"
      ]
     },
     "execution_count": 13,
     "metadata": {},
     "output_type": "execute_result"
    }
   ],
   "source": [
    "check = actions.query('event == \"finished_stage_1\"')\n",
    "#всего завершили уровень 5817 пользователей количество пропусков в проекте и здании должно соответствовать\n",
    "check.isna().sum()"
   ]
  },
  {
   "cell_type": "markdown",
   "id": "09827ba0",
   "metadata": {},
   "source": [
    "С датасетом все хорошо, ошибок в пропусках не обнаружено."
   ]
  },
  {
   "cell_type": "markdown",
   "id": "4c26ffbe",
   "metadata": {},
   "source": [
    "**Вывод:** при первичной проверке датасетов аномалий найдено не было, данные предоставлены  в удобном формате, очищены от дубликатов . Найденные пропуски не повлияют на ход исследования."
   ]
  },
  {
   "cell_type": "markdown",
   "id": "3ae1d9df",
   "metadata": {},
   "source": [
    "### Предобработка данных"
   ]
  },
  {
   "cell_type": "markdown",
   "id": "2dcfb229",
   "metadata": {},
   "source": [
    "Подготовим наш датасет для дальнейшего анализа, для этого сначала  добавим столбец с датой в таблицу `actions` :"
   ]
  },
  {
   "cell_type": "code",
   "execution_count": 14,
   "id": "eae082dd",
   "metadata": {},
   "outputs": [],
   "source": [
    "actions['date'] = pd.to_datetime(actions['event_datetime']).dt.date "
   ]
  },
  {
   "cell_type": "code",
   "execution_count": 15,
   "id": "0c60ee25",
   "metadata": {},
   "outputs": [
    {
     "data": {
      "text/html": [
       "<div>\n",
       "<style scoped>\n",
       "    .dataframe tbody tr th:only-of-type {\n",
       "        vertical-align: middle;\n",
       "    }\n",
       "\n",
       "    .dataframe tbody tr th {\n",
       "        vertical-align: top;\n",
       "    }\n",
       "\n",
       "    .dataframe thead th {\n",
       "        text-align: right;\n",
       "    }\n",
       "</style>\n",
       "<table border=\"1\" class=\"dataframe\">\n",
       "  <thead>\n",
       "    <tr style=\"text-align: right;\">\n",
       "      <th></th>\n",
       "      <th>event_datetime</th>\n",
       "      <th>event</th>\n",
       "      <th>building_type</th>\n",
       "      <th>user_id</th>\n",
       "      <th>project_type</th>\n",
       "      <th>date</th>\n",
       "    </tr>\n",
       "  </thead>\n",
       "  <tbody>\n",
       "    <tr>\n",
       "      <th>0</th>\n",
       "      <td>2020-05-04 00:00:01</td>\n",
       "      <td>building</td>\n",
       "      <td>assembly_shop</td>\n",
       "      <td>55e92310-cb8e-4754-b622-597e124b03de</td>\n",
       "      <td>NaN</td>\n",
       "      <td>2020-05-04</td>\n",
       "    </tr>\n",
       "    <tr>\n",
       "      <th>1</th>\n",
       "      <td>2020-05-04 00:00:03</td>\n",
       "      <td>building</td>\n",
       "      <td>assembly_shop</td>\n",
       "      <td>c07b1c10-f477-44dc-81dc-ec82254b1347</td>\n",
       "      <td>NaN</td>\n",
       "      <td>2020-05-04</td>\n",
       "    </tr>\n",
       "    <tr>\n",
       "      <th>2</th>\n",
       "      <td>2020-05-04 00:00:16</td>\n",
       "      <td>building</td>\n",
       "      <td>assembly_shop</td>\n",
       "      <td>6edd42cc-e753-4ff6-a947-2107cd560710</td>\n",
       "      <td>NaN</td>\n",
       "      <td>2020-05-04</td>\n",
       "    </tr>\n",
       "    <tr>\n",
       "      <th>3</th>\n",
       "      <td>2020-05-04 00:00:16</td>\n",
       "      <td>building</td>\n",
       "      <td>assembly_shop</td>\n",
       "      <td>92c69003-d60a-444a-827f-8cc51bf6bf4c</td>\n",
       "      <td>NaN</td>\n",
       "      <td>2020-05-04</td>\n",
       "    </tr>\n",
       "    <tr>\n",
       "      <th>4</th>\n",
       "      <td>2020-05-04 00:00:35</td>\n",
       "      <td>building</td>\n",
       "      <td>assembly_shop</td>\n",
       "      <td>cdc6bb92-0ccb-4490-9866-ef142f09139d</td>\n",
       "      <td>NaN</td>\n",
       "      <td>2020-05-04</td>\n",
       "    </tr>\n",
       "    <tr>\n",
       "      <th>...</th>\n",
       "      <td>...</td>\n",
       "      <td>...</td>\n",
       "      <td>...</td>\n",
       "      <td>...</td>\n",
       "      <td>...</td>\n",
       "      <td>...</td>\n",
       "    </tr>\n",
       "    <tr>\n",
       "      <th>135635</th>\n",
       "      <td>2020-06-05 00:08:06</td>\n",
       "      <td>building</td>\n",
       "      <td>research_center</td>\n",
       "      <td>f21d179f-1c4b-437e-b9c6-ab1976907195</td>\n",
       "      <td>NaN</td>\n",
       "      <td>2020-06-05</td>\n",
       "    </tr>\n",
       "    <tr>\n",
       "      <th>135636</th>\n",
       "      <td>2020-06-05 02:25:12</td>\n",
       "      <td>finished_stage_1</td>\n",
       "      <td>NaN</td>\n",
       "      <td>515c1952-99aa-4bca-a7ea-d0449eb5385a</td>\n",
       "      <td>NaN</td>\n",
       "      <td>2020-06-05</td>\n",
       "    </tr>\n",
       "    <tr>\n",
       "      <th>135637</th>\n",
       "      <td>2020-06-05 08:57:52</td>\n",
       "      <td>building</td>\n",
       "      <td>research_center</td>\n",
       "      <td>ed3e7d02-8a96-4be7-9998-e9813ff9c316</td>\n",
       "      <td>NaN</td>\n",
       "      <td>2020-06-05</td>\n",
       "    </tr>\n",
       "    <tr>\n",
       "      <th>135638</th>\n",
       "      <td>2020-06-05 12:12:27</td>\n",
       "      <td>finished_stage_1</td>\n",
       "      <td>NaN</td>\n",
       "      <td>32572adb-900f-4b5d-a453-1eb1e6d88d8b</td>\n",
       "      <td>NaN</td>\n",
       "      <td>2020-06-05</td>\n",
       "    </tr>\n",
       "    <tr>\n",
       "      <th>135639</th>\n",
       "      <td>2020-06-05 12:32:49</td>\n",
       "      <td>finished_stage_1</td>\n",
       "      <td>NaN</td>\n",
       "      <td>f21d179f-1c4b-437e-b9c6-ab1976907195</td>\n",
       "      <td>NaN</td>\n",
       "      <td>2020-06-05</td>\n",
       "    </tr>\n",
       "  </tbody>\n",
       "</table>\n",
       "<p>135639 rows × 6 columns</p>\n",
       "</div>"
      ],
      "text/plain": [
       "             event_datetime             event    building_type  \\\n",
       "0       2020-05-04 00:00:01          building    assembly_shop   \n",
       "1       2020-05-04 00:00:03          building    assembly_shop   \n",
       "2       2020-05-04 00:00:16          building    assembly_shop   \n",
       "3       2020-05-04 00:00:16          building    assembly_shop   \n",
       "4       2020-05-04 00:00:35          building    assembly_shop   \n",
       "...                     ...               ...              ...   \n",
       "135635  2020-06-05 00:08:06          building  research_center   \n",
       "135636  2020-06-05 02:25:12  finished_stage_1              NaN   \n",
       "135637  2020-06-05 08:57:52          building  research_center   \n",
       "135638  2020-06-05 12:12:27  finished_stage_1              NaN   \n",
       "135639  2020-06-05 12:32:49  finished_stage_1              NaN   \n",
       "\n",
       "                                     user_id project_type        date  \n",
       "0       55e92310-cb8e-4754-b622-597e124b03de          NaN  2020-05-04  \n",
       "1       c07b1c10-f477-44dc-81dc-ec82254b1347          NaN  2020-05-04  \n",
       "2       6edd42cc-e753-4ff6-a947-2107cd560710          NaN  2020-05-04  \n",
       "3       92c69003-d60a-444a-827f-8cc51bf6bf4c          NaN  2020-05-04  \n",
       "4       cdc6bb92-0ccb-4490-9866-ef142f09139d          NaN  2020-05-04  \n",
       "...                                      ...          ...         ...  \n",
       "135635  f21d179f-1c4b-437e-b9c6-ab1976907195          NaN  2020-06-05  \n",
       "135636  515c1952-99aa-4bca-a7ea-d0449eb5385a          NaN  2020-06-05  \n",
       "135637  ed3e7d02-8a96-4be7-9998-e9813ff9c316          NaN  2020-06-05  \n",
       "135638  32572adb-900f-4b5d-a453-1eb1e6d88d8b          NaN  2020-06-05  \n",
       "135639  f21d179f-1c4b-437e-b9c6-ab1976907195          NaN  2020-06-05  \n",
       "\n",
       "[135639 rows x 6 columns]"
      ]
     },
     "execution_count": 15,
     "metadata": {},
     "output_type": "execute_result"
    }
   ],
   "source": [
    "actions"
   ]
  },
  {
   "cell_type": "markdown",
   "id": "4b861399",
   "metadata": {},
   "source": [
    "Посмотрим, за какой период у нас есть данные:"
   ]
  },
  {
   "cell_type": "code",
   "execution_count": 16,
   "id": "3df90a6e",
   "metadata": {},
   "outputs": [
    {
     "name": "stdout",
     "output_type": "stream",
     "text": [
      "минимальная дата: 2020-05-04\n",
      "максимальная дата: 2020-06-05\n"
     ]
    }
   ],
   "source": [
    "print('минимальная дата:' , actions['date'].min())\n",
    "print('максимальная дата:' , actions['date'].max())"
   ]
  },
  {
   "cell_type": "markdown",
   "id": "41c3d8d9",
   "metadata": {},
   "source": [
    "Имеем датасет за период с 4 мая по 5 июня (месяц)"
   ]
  },
  {
   "cell_type": "markdown",
   "id": "9226a1ff",
   "metadata": {},
   "source": [
    "В таблице `costs` создадим новым столбец day_fact:  изменим тип даты у столбца day с object на datetime, затем сместим на 1 день, т.к. нам известно, что реклама закупалась авансом"
   ]
  },
  {
   "cell_type": "code",
   "execution_count": 17,
   "id": "99553b4c",
   "metadata": {},
   "outputs": [],
   "source": [
    "costs['day_fact'] = pd.to_datetime(costs['day'])  # преобразуем столбец в объект datetime\n",
    "costs['day_fact'] += pd.Timedelta(days=1)  # сдвигаем дату на 1 день вперед"
   ]
  },
  {
   "cell_type": "markdown",
   "id": "733618c1",
   "metadata": {},
   "source": [
    "Создадим новую таблицу `actions_source` путем объединения двух таблиц `actions` и `source`"
   ]
  },
  {
   "cell_type": "code",
   "execution_count": 18,
   "id": "f24ccf1a",
   "metadata": {},
   "outputs": [],
   "source": [
    "actions_source = pd.merge(source, actions, on='user_id', how='right')"
   ]
  },
  {
   "cell_type": "code",
   "execution_count": 19,
   "id": "656242b3",
   "metadata": {},
   "outputs": [
    {
     "data": {
      "text/html": [
       "<div>\n",
       "<style scoped>\n",
       "    .dataframe tbody tr th:only-of-type {\n",
       "        vertical-align: middle;\n",
       "    }\n",
       "\n",
       "    .dataframe tbody tr th {\n",
       "        vertical-align: top;\n",
       "    }\n",
       "\n",
       "    .dataframe thead th {\n",
       "        text-align: right;\n",
       "    }\n",
       "</style>\n",
       "<table border=\"1\" class=\"dataframe\">\n",
       "  <thead>\n",
       "    <tr style=\"text-align: right;\">\n",
       "      <th></th>\n",
       "      <th>user_id</th>\n",
       "      <th>source</th>\n",
       "      <th>event_datetime</th>\n",
       "      <th>event</th>\n",
       "      <th>building_type</th>\n",
       "      <th>project_type</th>\n",
       "      <th>date</th>\n",
       "    </tr>\n",
       "  </thead>\n",
       "  <tbody>\n",
       "    <tr>\n",
       "      <th>0</th>\n",
       "      <td>55e92310-cb8e-4754-b622-597e124b03de</td>\n",
       "      <td>youtube_channel_reklama</td>\n",
       "      <td>2020-05-04 00:00:01</td>\n",
       "      <td>building</td>\n",
       "      <td>assembly_shop</td>\n",
       "      <td>NaN</td>\n",
       "      <td>2020-05-04</td>\n",
       "    </tr>\n",
       "    <tr>\n",
       "      <th>1</th>\n",
       "      <td>c07b1c10-f477-44dc-81dc-ec82254b1347</td>\n",
       "      <td>facebook_ads</td>\n",
       "      <td>2020-05-04 00:00:03</td>\n",
       "      <td>building</td>\n",
       "      <td>assembly_shop</td>\n",
       "      <td>NaN</td>\n",
       "      <td>2020-05-04</td>\n",
       "    </tr>\n",
       "    <tr>\n",
       "      <th>2</th>\n",
       "      <td>6edd42cc-e753-4ff6-a947-2107cd560710</td>\n",
       "      <td>instagram_new_adverts</td>\n",
       "      <td>2020-05-04 00:00:16</td>\n",
       "      <td>building</td>\n",
       "      <td>assembly_shop</td>\n",
       "      <td>NaN</td>\n",
       "      <td>2020-05-04</td>\n",
       "    </tr>\n",
       "    <tr>\n",
       "      <th>3</th>\n",
       "      <td>92c69003-d60a-444a-827f-8cc51bf6bf4c</td>\n",
       "      <td>facebook_ads</td>\n",
       "      <td>2020-05-04 00:00:16</td>\n",
       "      <td>building</td>\n",
       "      <td>assembly_shop</td>\n",
       "      <td>NaN</td>\n",
       "      <td>2020-05-04</td>\n",
       "    </tr>\n",
       "    <tr>\n",
       "      <th>4</th>\n",
       "      <td>cdc6bb92-0ccb-4490-9866-ef142f09139d</td>\n",
       "      <td>yandex_direct</td>\n",
       "      <td>2020-05-04 00:00:35</td>\n",
       "      <td>building</td>\n",
       "      <td>assembly_shop</td>\n",
       "      <td>NaN</td>\n",
       "      <td>2020-05-04</td>\n",
       "    </tr>\n",
       "  </tbody>\n",
       "</table>\n",
       "</div>"
      ],
      "text/plain": [
       "                                user_id                   source  \\\n",
       "0  55e92310-cb8e-4754-b622-597e124b03de  youtube_channel_reklama   \n",
       "1  c07b1c10-f477-44dc-81dc-ec82254b1347             facebook_ads   \n",
       "2  6edd42cc-e753-4ff6-a947-2107cd560710    instagram_new_adverts   \n",
       "3  92c69003-d60a-444a-827f-8cc51bf6bf4c             facebook_ads   \n",
       "4  cdc6bb92-0ccb-4490-9866-ef142f09139d            yandex_direct   \n",
       "\n",
       "        event_datetime     event  building_type project_type        date  \n",
       "0  2020-05-04 00:00:01  building  assembly_shop          NaN  2020-05-04  \n",
       "1  2020-05-04 00:00:03  building  assembly_shop          NaN  2020-05-04  \n",
       "2  2020-05-04 00:00:16  building  assembly_shop          NaN  2020-05-04  \n",
       "3  2020-05-04 00:00:16  building  assembly_shop          NaN  2020-05-04  \n",
       "4  2020-05-04 00:00:35  building  assembly_shop          NaN  2020-05-04  "
      ]
     },
     "execution_count": 19,
     "metadata": {},
     "output_type": "execute_result"
    }
   ],
   "source": [
    "actions_source.head()"
   ]
  },
  {
   "cell_type": "markdown",
   "id": "00b4fe76",
   "metadata": {},
   "source": [
    "Добавим маркеры:\n",
    "\n",
    "   * завершил уровень (исследователь) - `PVE`;\n",
    "   \n",
    "За исследователя будем принимать тех, кто  завершил уровень (event= finished_stage_1) и  есть проект  (event= project)     \n",
    "   \n",
    "   * завершил уровень (победой над игроком) - `PVP`;\n",
    "   \n",
    "За того, кто одержал победу над игроком, будем принимать тех, кто  завершил уровень (event= finished_stage_1) и  проект не строил "
   ]
  },
  {
   "cell_type": "code",
   "execution_count": 20,
   "id": "2679576c",
   "metadata": {},
   "outputs": [],
   "source": [
    "# Сгруппируем пользователей по полю 'user_id'\n",
    "grouped_df  = actions_source.groupby('user_id')\n",
    "\n",
    "# создадим функцию для определения категории пользователя\n",
    "def get_user_category(group):\n",
    "    if 'finished_stage_1' in group['event'].values and 'project' in group['event'].values:\n",
    "        return 'PVE'\n",
    "    elif 'finished_stage_1' in group['event'].values:\n",
    "        return 'PVP'\n",
    "    else:\n",
    "        return 'unfinished'\n",
    "\n",
    "# Применим функцию к каждой группе пользователей\n",
    "user_categories = grouped_df.apply(get_user_category)\n",
    "\n",
    "# Сбросим индекс для дальнейшего объединения\n",
    "user_categories = user_categories.reset_index()\n",
    "\n",
    "# Переименуем столбец с результатами функции\n",
    "user_categories = user_categories.rename(columns={0: 'user_category'})\n",
    "\n",
    "# Объединим исходный датафрейм и датафрейм с результатами функции по идентификатору пользователя\n",
    "result_df = pd.merge(actions_source, user_categories, on='user_id', how='left')\n"
   ]
  },
  {
   "cell_type": "markdown",
   "id": "6a6c46d2",
   "metadata": {},
   "source": [
    "**Вывод:** Все данные подготовлены к анализу, дополнительные столбцы созданы"
   ]
  },
  {
   "cell_type": "markdown",
   "id": "a9577eea",
   "metadata": {},
   "source": [
    "\n",
    "### Исследовательский анализ"
   ]
  },
  {
   "cell_type": "markdown",
   "id": "8071a106",
   "metadata": {},
   "source": [
    "Проведем исследование по поведению пользователей и эффектиности рекламы:"
   ]
  },
  {
   "cell_type": "markdown",
   "id": "a2247d99",
   "metadata": {},
   "source": [
    "#### Как распределились пользователи к концу анализируемого периода:"
   ]
  },
  {
   "cell_type": "code",
   "execution_count": 21,
   "id": "834e509c",
   "metadata": {},
   "outputs": [
    {
     "name": "stdout",
     "output_type": "stream",
     "text": [
      "Всего уникальных пользователей: 13576\n",
      "Распределение пользователей к концу месяца в игре:\n",
      "user_category\n",
      "PVE           14.0\n",
      "PVP           29.0\n",
      "unfinished    57.0\n",
      "Name: user_id, dtype: float64\n"
     ]
    }
   ],
   "source": [
    "# считаем количество уникальных пользователей для каждой категории\n",
    "unique_users_by_category = result_df.groupby('user_category')['user_id'].nunique()\n",
    "\n",
    "# вычисляем общее количество уникальных пользователей\n",
    "total_unique_users = unique_users_by_category.sum()\n",
    "\n",
    "# вычисляем долю каждой категории\n",
    "fractions = (unique_users_by_category / total_unique_users*100).round()\n",
    "\n",
    "\n",
    "print('Всего уникальных пользователей:' , result_df['user_id'].nunique())\n",
    "print('Распределение пользователей к концу месяца в игре:')\n",
    "print(fractions)"
   ]
  },
  {
   "cell_type": "markdown",
   "id": "72854bab",
   "metadata": {},
   "source": [
    "Всего за период исследования игру посетило более **13,5 тыс.** игроков. \n",
    "Из них:\n",
    "- **57%** не прошли игру;\n",
    "- **29%** прошли игру путем победы над другим игроком;\n",
    "- **14%** прошли игру путем исследования и построек."
   ]
  },
  {
   "cell_type": "markdown",
   "id": "efb67146",
   "metadata": {},
   "source": [
    "#### Есть ли связь между источником рекламы и  дохождением игрока до конца уровня?"
   ]
  },
  {
   "cell_type": "code",
   "execution_count": 22,
   "id": "29ff17a0",
   "metadata": {},
   "outputs": [
    {
     "data": {
      "image/png": "[encoded data removed]",
      "text/plain": [
       "<Figure size 640x480 with 1 Axes>"
      ]
     },
     "metadata": {},
     "output_type": "display_data"
    },
    {
     "data": {
      "image/png": "[encoded data removed]",
      "text/plain": [
       "<Figure size 640x480 with 1 Axes>"
      ]
     },
     "metadata": {},
     "output_type": "display_data"
    },
    {
     "data": {
      "image/png": "[encoded data removed]",
      "text/plain": [
       "<Figure size 640x480 with 1 Axes>"
      ]
     },
     "metadata": {},
     "output_type": "display_data"
    },
    {
     "data": {
      "image/png": "[encoded data removed]",
      "text/plain": [
       "<Figure size 640x480 with 1 Axes>"
      ]
     },
     "metadata": {},
     "output_type": "display_data"
    }
   ],
   "source": [
    "pt = result_df.pivot_table(index= 'user_category', values = 'user_id', columns = 'source' , aggfunc = 'nunique')\n",
    "\n",
    "# построим круговые диаграммы для каждого источника\n",
    "for col in pt.columns:\n",
    "    pt[col].plot.pie(autopct='%1.1f%%')\n",
    "    plt.title(col)\n",
    "    plt.show()"
   ]
  },
  {
   "cell_type": "markdown",
   "id": "dd7656c5",
   "metadata": {},
   "source": [
    "Изучив графики, мы видим, что эти события не связаны между собой и со всех каналов игроки ведут себя в среднем одинаково. "
   ]
  },
  {
   "cell_type": "markdown",
   "id": "1756d973",
   "metadata": {},
   "source": [
    "#### Сколько игроков пришло с каждого ресурса?"
   ]
  },
  {
   "cell_type": "code",
   "execution_count": 23,
   "id": "3eb22589",
   "metadata": {},
   "outputs": [],
   "source": [
    "pt2 = (result_df.pivot_table(index= 'source', values = 'user_id', aggfunc = 'nunique')\n",
    "                        .sort_values(by = 'user_id', ascending= False))"
   ]
  },
  {
   "cell_type": "code",
   "execution_count": 24,
   "id": "8bfdfcb4",
   "metadata": {},
   "outputs": [
    {
     "data": {
      "image/png": "[encoded data removed]",
      "text/plain": [
       "<Figure size 640x480 with 1 Axes>"
      ]
     },
     "metadata": {},
     "output_type": "display_data"
    }
   ],
   "source": [
    "fig, ax = plt.subplots()\n",
    "\n",
    "# Строим круговую диаграмму\n",
    "ax.pie(pt2['user_id'], labels=pt2.index, autopct='%1.1f%%')\n",
    "ax.set_title('Доля игроков пришедшая из каждого канала')\n",
    "plt.show()"
   ]
  },
  {
   "cell_type": "markdown",
   "id": "dda8a434",
   "metadata": {},
   "source": [
    "Как видно на графике , больше всего пользователей пришло их `yandex_direct` - **35,5%**, далее идет `instagram_new_adverts` - **24,7%** и по **20%** `facebook_ads` и `youtube_channel_reklama`."
   ]
  },
  {
   "cell_type": "markdown",
   "id": "dec6c499",
   "metadata": {},
   "source": [
    "#### Сколько пользователи сделали построек из каждого источника:"
   ]
  },
  {
   "cell_type": "code",
   "execution_count": 25,
   "id": "f6cd2c03",
   "metadata": {},
   "outputs": [
    {
     "data": {
      "image/png": "[encoded data removed]",
      "text/plain": [
       "<Figure size 640x480 with 1 Axes>"
      ]
     },
     "metadata": {},
     "output_type": "display_data"
    }
   ],
   "source": [
    "pt3 = (result_df.query('event == \"building\"')\n",
    "       .pivot_table(index = ['user_id', 'source'], values='event', aggfunc = 'count').reset_index())\n",
    "\n",
    "ax = sns.boxplot(x='event', y='source', data=pt3) \n",
    "sns.set_style('white')\n",
    "plt.title('количество построек в разрезе источников')\n",
    "plt.xlabel('количество построек')\n",
    "plt.ylabel('источник')\n",
    "plt.xticks()\n",
    "plt.show()\n"
   ]
  },
  {
   "cell_type": "markdown",
   "id": "2c4328a6",
   "metadata": {},
   "source": [
    "Здесь мы видим, что количество построек не зависит от источника, из которого пришел игрок. Так, в среднем игрок строит около 10 построек за игру. "
   ]
  },
  {
   "cell_type": "markdown",
   "id": "70a8cdfd",
   "metadata": {},
   "source": [
    "#### Рассмотрим в разрезе источников, сколько в среднем игроки проводят время в игре:"
   ]
  },
  {
   "cell_type": "code",
   "execution_count": 26,
   "id": "3922adde",
   "metadata": {},
   "outputs": [],
   "source": [
    "# преобразуем столбец с датой в тип datetime\n",
    "result_df['event_datetime'] = pd.to_datetime(result_df['event_datetime'])\n",
    "\n",
    "# группируем данные по каждому пользователю и считаем разницу между минимальной и максимальной датами в часах\n",
    "hours_diff = result_df.groupby(['user_id','source'])['event_datetime'].apply(lambda x: (x.max() - x.min()).total_seconds() / 3600).reset_index()\n"
   ]
  },
  {
   "cell_type": "code",
   "execution_count": 27,
   "id": "041d590c",
   "metadata": {},
   "outputs": [
    {
     "data": {
      "image/png": "[encoded data removed]",
      "text/plain": [
       "<Figure size 640x480 with 1 Axes>"
      ]
     },
     "metadata": {},
     "output_type": "display_data"
    }
   ],
   "source": [
    "ax = sns.boxplot(x='event_datetime', y='source', data=hours_diff) \n",
    "sns.set_style('white')\n",
    "plt.title('количество проведенного времени пользователей в разрезе рекламных источников')\n",
    "plt.xlabel('часы')\n",
    "plt.ylabel('источник')\n",
    "plt.xticks()\n",
    "plt.show()"
   ]
  },
  {
   "cell_type": "markdown",
   "id": "1cee1a6f",
   "metadata": {},
   "source": [
    "Здесь мы видим, что в среднем игроки из разных источников проводят одинаковое количество времени в игре, однако если посмотреть на максимальное значение, то видим, что пользователи с масимальным значеним у  `facebook_ads` чуть больше, чем у остальных источников."
   ]
  },
  {
   "cell_type": "markdown",
   "id": "a28a281d",
   "metadata": {},
   "source": [
    "#### Стоимость рекламы за 1 день"
   ]
  },
  {
   "cell_type": "markdown",
   "id": "0b9d2b20",
   "metadata": {},
   "source": [
    "Посмотрим сколько в среднем нам обходилась реклама в день в разрезе источников:"
   ]
  },
  {
   "cell_type": "code",
   "execution_count": 28,
   "id": "2999d6e8",
   "metadata": {},
   "outputs": [
    {
     "name": "stdout",
     "output_type": "stream",
     "text": [
      "source\n",
      "youtube_channel_reklama    152.588458\n",
      "facebook_ads               305.843520\n",
      "instagram_new_adverts      308.777384\n",
      "yandex_direct              319.015921\n",
      "Name: cost, dtype: float64\n"
     ]
    }
   ],
   "source": [
    "# добавление столбца \"days\", содержащего номер дня от начала периода\n",
    "start_date = costs['day_fact'].min()\n",
    "costs['days'] = (costs['day_fact'] - start_date).dt.days + 1\n",
    "\n",
    "# вычисление средней стоимости по каждому источнику рекламы\n",
    "mean_cost_by_source = costs.groupby('source')['cost'].mean().sort_values()\n",
    "\n",
    "print(mean_cost_by_source)"
   ]
  },
  {
   "cell_type": "markdown",
   "id": "f0d89c06",
   "metadata": {},
   "source": [
    "Здесь мы видим, что самая дорогая реклама у нас от `yandex_direct`, а самая дешевая `youtube_channel_reklama`"
   ]
  },
  {
   "cell_type": "markdown",
   "id": "3808de9b",
   "metadata": {},
   "source": [
    "#### Затраты на рекламу на 1 игрока:"
   ]
  },
  {
   "cell_type": "markdown",
   "id": "9b7054a7",
   "metadata": {},
   "source": [
    "Посмотрим какая стоимость 1 игрока по каждому из источников:"
   ]
  },
  {
   "cell_type": "code",
   "execution_count": 29,
   "id": "429b5002",
   "metadata": {},
   "outputs": [
    {
     "data": {
      "text/html": [
       "<div>\n",
       "<style scoped>\n",
       "    .dataframe tbody tr th:only-of-type {\n",
       "        vertical-align: middle;\n",
       "    }\n",
       "\n",
       "    .dataframe tbody tr th {\n",
       "        vertical-align: top;\n",
       "    }\n",
       "\n",
       "    .dataframe thead th {\n",
       "        text-align: right;\n",
       "    }\n",
       "</style>\n",
       "<table border=\"1\" class=\"dataframe\">\n",
       "  <thead>\n",
       "    <tr style=\"text-align: right;\">\n",
       "      <th></th>\n",
       "      <th>source</th>\n",
       "      <th>cost</th>\n",
       "      <th>count_users</th>\n",
       "      <th>costs_per_user</th>\n",
       "    </tr>\n",
       "  </thead>\n",
       "  <tbody>\n",
       "    <tr>\n",
       "      <th>0</th>\n",
       "      <td>facebook_ads</td>\n",
       "      <td>2140.904643</td>\n",
       "      <td>2726</td>\n",
       "      <td>0.79</td>\n",
       "    </tr>\n",
       "    <tr>\n",
       "      <th>1</th>\n",
       "      <td>instagram_new_adverts</td>\n",
       "      <td>2161.441691</td>\n",
       "      <td>3347</td>\n",
       "      <td>0.65</td>\n",
       "    </tr>\n",
       "    <tr>\n",
       "      <th>2</th>\n",
       "      <td>yandex_direct</td>\n",
       "      <td>2233.111449</td>\n",
       "      <td>4817</td>\n",
       "      <td>0.46</td>\n",
       "    </tr>\n",
       "    <tr>\n",
       "      <th>3</th>\n",
       "      <td>youtube_channel_reklama</td>\n",
       "      <td>1068.119204</td>\n",
       "      <td>2686</td>\n",
       "      <td>0.40</td>\n",
       "    </tr>\n",
       "  </tbody>\n",
       "</table>\n",
       "</div>"
      ],
      "text/plain": [
       "                    source         cost  count_users  costs_per_user\n",
       "0             facebook_ads  2140.904643         2726            0.79\n",
       "1    instagram_new_adverts  2161.441691         3347            0.65\n",
       "2            yandex_direct  2233.111449         4817            0.46\n",
       "3  youtube_channel_reklama  1068.119204         2686            0.40"
      ]
     },
     "execution_count": 29,
     "metadata": {},
     "output_type": "execute_result"
    }
   ],
   "source": [
    "# сгруппируем стоимость по источникам рекламы\n",
    "costs_source = costs.pivot_table(index = 'source', values = 'cost', aggfunc = 'sum').reset_index()\n",
    "\n",
    "# сгруппируем и посчитаем сколько привлечено пользователей по источникам рекламы\n",
    "count_users = result_df.pivot_table(index= 'source', values = 'user_id', aggfunc = 'nunique').reset_index()\n",
    "count_users.columns=['source', 'count_users']\n",
    "\n",
    "# соеденим две таблицы для дальнейших расчетов\n",
    "costs_per_user = pd.merge(costs_source, count_users, on='source', how='right')\n",
    "\n",
    "# рассчитаем среднюю стоимость за игрока\n",
    "costs_per_user['costs_per_user']= (costs_per_user['cost']/costs_per_user['count_users']).round(2)\n",
    "costs_per_user"
   ]
  },
  {
   "cell_type": "code",
   "execution_count": 30,
   "id": "823ae4d5",
   "metadata": {
    "scrolled": false
   },
   "outputs": [
    {
     "data": {
      "image/png": "[encoded data removed]",
      "text/plain": [
       "<Figure size 640x480 with 1 Axes>"
      ]
     },
     "metadata": {},
     "output_type": "display_data"
    }
   ],
   "source": [
    "# построим график\n",
    "ax = sns.barplot(x='costs_per_user', y='source', data=costs_per_user) \n",
    "sns.set_style('white')\n",
    "plt.title('стоимость привлечения 1 игрока')\n",
    "plt.xlabel('стоимость')\n",
    "plt.ylabel('источник')\n",
    "plt.xticks()\n",
    "plt.show()"
   ]
  },
  {
   "cell_type": "markdown",
   "id": "68ab3be2",
   "metadata": {},
   "source": [
    "Исходя из данных, мы видим, что самая большая стоимость игрока у нас от рекламы на `facebook_ads`, самая низкая у `youtube_channel_reklama`"
   ]
  },
  {
   "cell_type": "markdown",
   "id": "dfc0c7e5",
   "metadata": {},
   "source": [
    "#### Выводы  и приоритезация источников рекламы "
   ]
  },
  {
   "cell_type": "markdown",
   "id": "a239ecdc",
   "metadata": {},
   "source": [
    "У нас сложилась следующая картина по привлеченным игрокам из разных источников:\n",
    "\n",
    "1) *Доля игроков, которая пришла из кажого источника:*\n",
    "\n",
    "    - yandex_direct\t( пришло 35% пользователей)\n",
    "    - instagram_new_adverts (пришло 25% пользователей)\n",
    "    - youtube_channel_reklama (пришло 20% пользователей)\n",
    "    - facebook_ads (пришло 20% пользователей)\n",
    "         \n",
    "    \n",
    "2) *Стоимость 1 дня рекламы:*\n",
    "\n",
    "    - youtube_channel_reklama (152 y.e.)\n",
    "    - facebook_ads (305 y.e.)  \n",
    "    - instagram_new_adverts (308 y.e.)\n",
    "    - yandex_direct\t( 320 y.e.)\n",
    "    \n",
    "\n",
    "3) *Стоимость 1 привлеченного игрока:*\n",
    "\n",
    "    - yandex_direct\t( 0,46 y.e.)\n",
    "    - youtube_channel_reklama (0,4 y.e.)\n",
    "    - instagram_new_adverts (0,65 y.e.)\n",
    "    - facebook_ads (0,79 y.e.)  \n",
    "\n",
    "Из данных видно, что самая дорогая реклама в день у `yandex_direct`, однако стоимость 1 пользователя  составляет 0,46 рубля.\n",
    "Самый дешёвый игрок к нам приходит из `youtube_channel_reklama`.\n",
    "Самый дорогой игрок приходит из `facebook_ads` ( почти в 2 раза дороже, чем из `yandex_direct`) \n",
    "\n",
    "Исходя из данных мы предлагаем следующую **приоритизацию по источникам**:\n",
    "\n",
    "    1) yandex_direct ( хорошая цена за 1 игрока и  привлекли  больше всего пользователей (35% от всех привлеченных))\n",
    "    2) youtube_channel_reklama ( самая дешевая стоимость 1 игрока)\n",
    "    3) instagram_new_adverts ( стоимость 1 игрока выше среднего и привлекла 25% пользователей от всех привлеченных)\n",
    "    4) facebook_ads (самая дорогая стоимость игрока) \n",
    "        "
   ]
  },
  {
   "cell_type": "markdown",
   "id": "eb6ec265",
   "metadata": {},
   "source": [
    "### Проверка гипотез"
   ]
  },
  {
   "cell_type": "markdown",
   "id": "9d1a237e",
   "metadata": {},
   "source": [
    "- **Гипотеза №1:** время завершения уровня различается в зависимости способа прохождения:\n",
    "    - *через реализацию проекта*\n",
    "    - *через победу над первым игроком.*"
   ]
  },
  {
   "cell_type": "code",
   "execution_count": 31,
   "id": "86f53c16",
   "metadata": {},
   "outputs": [],
   "source": [
    "#подготовим данные для проверки\n",
    "hours_diff = result_df.groupby(['user_id','source', 'user_category'])['event_datetime'].apply(lambda x: (x.max() - x.min()).total_seconds() / 3600).reset_index()"
   ]
  },
  {
   "cell_type": "markdown",
   "id": "d47ddade",
   "metadata": {},
   "source": [
    "Формулируем нулевую `H_0` и алтернативную гипотезу `H_a`:"
   ]
  },
  {
   "cell_type": "markdown",
   "id": "b2911603",
   "metadata": {},
   "source": [
    "```\n",
    "H_0: Время (event_datetime) пользователей \"PVE\" = время (event_datetime) пользователей \"PVP\"\n",
    "H_a: Время (event_datetime) пользователей \"PVE\" ≠ время (event_datetime) пользователей \"PVP\"\n",
    "alpha = 0.05\n",
    "```"
   ]
  },
  {
   "cell_type": "markdown",
   "id": "2880aba9",
   "metadata": {},
   "source": [
    "Гипотезы будем проверять критерием Манна-Уитни, т.к. данная проверка в отличие от теста Стьюдента не требует, чтобы данные были нормально распределены или имели одинаковые дисперсии : "
   ]
  },
  {
   "cell_type": "code",
   "execution_count": 32,
   "id": "9d431965",
   "metadata": {},
   "outputs": [
    {
     "name": "stdout",
     "output_type": "stream",
     "text": [
      "1.1228044721644527e-106\n",
      "Отвергаем нулевую гипотезу\n"
     ]
    }
   ],
   "source": [
    "PVP = hours_diff.query('user_category == \"PVP\"')\n",
    "PVE = hours_diff.query('user_category == \"PVE\"')\n",
    "\n",
    "results = st.mannwhitneyu(PVP['event_datetime'],PVE['event_datetime'])\n",
    "alpha=.05\n",
    "print(results.pvalue)\n",
    "\n",
    "\n",
    "if (results.pvalue<alpha):\n",
    "    \n",
    "    print('Отвергаем нулевую гипотезу')\n",
    "else: \n",
    "    print('Не получилось отвергнуть нулевую гипотезу')"
   ]
  },
  {
   "cell_type": "markdown",
   "id": "4cb57e3e",
   "metadata": {},
   "source": [
    "Проверка гипотезы показала, что  между временем провождением в игре исследователей и тех, кто воюет есть."
   ]
  },
  {
   "cell_type": "markdown",
   "id": "56ee7651",
   "metadata": {},
   "source": [
    "- **Гипотеза №2:** количество построенных зданий зависит от источников рекламы\n",
    " ```\n",
    "H_0: Количество строений (building) источника (source) = Количество строений (building) другого источника (source)\n",
    "H_a: Количество строений (building) источника (source) ≠ Количество строений (building) другого источника (source)\n",
    "Альфу будем применять с поправкой Бонферрони ( всего нам нужно сделать 6 сравнений, следовательно 0.05/6 = 0,00833)\n",
    "alpha = 0,00833\n",
    "```   "
   ]
  },
  {
   "cell_type": "code",
   "execution_count": 33,
   "id": "6a4a59fb",
   "metadata": {},
   "outputs": [],
   "source": [
    "#подготовим данные для проверки\n",
    "\n",
    "df = result_df.query('event == \"building\"').pivot_table(index = ['user_id', 'source'], values='event', aggfunc = 'count').reset_index()\n",
    "\n",
    "#отфильтруем датасет по источникам\n",
    "\n",
    "yd = df.query('source == \"yandex_direct\" ')\n",
    "fb = df.query('source == \"facebook_ads\" ')\n",
    "ut = df.query('source == \"youtube_channel_reklama\" ')\n",
    "ig = df.query('source == \"instagram_new_adverts\" ')\n"
   ]
  },
  {
   "cell_type": "code",
   "execution_count": 34,
   "id": "3d2dda75",
   "metadata": {},
   "outputs": [],
   "source": [
    "# создадим функцию по проверке гипотез\n",
    "\n",
    "def hyp_test(source_1,source_2):\n",
    "\n",
    "    results = st.mannwhitneyu(source_1,source_2)\n",
    "    alpha=0.00833\n",
    "    print(results.pvalue)\n",
    "    if (results.pvalue<alpha):    \n",
    "        print('Отвергаем нулевую гипотезу')\n",
    "    else: \n",
    "        print('Не получилось отвергнуть нулевую гипотезу')"
   ]
  },
  {
   "cell_type": "code",
   "execution_count": 35,
   "id": "5841f5fc",
   "metadata": {},
   "outputs": [
    {
     "name": "stdout",
     "output_type": "stream",
     "text": [
      "1 группа: Яндекс vs Facebook\n",
      "0.014383638324054673\n",
      "Не получилось отвергнуть нулевую гипотезу\n",
      "----\n",
      "2 группа: Яндекс vs Instagram\n",
      "0.1018893572665771\n",
      "Не получилось отвергнуть нулевую гипотезу\n",
      "----\n",
      "3 группа: Яндекс vs Youtube\n",
      "0.6514154789589316\n",
      "Не получилось отвергнуть нулевую гипотезу\n",
      "----\n",
      "4 группа: Facebook vs Instagram\n",
      "0.38716367306843236\n",
      "Не получилось отвергнуть нулевую гипотезу\n",
      "----\n",
      "5 группа: Facebook vs Youtube\n",
      "0.010788356347116118\n",
      "Не получилось отвергнуть нулевую гипотезу\n",
      "----\n",
      "6 группа: Youtube vs Instagram\n",
      "0.06600456483354944\n",
      "Не получилось отвергнуть нулевую гипотезу\n"
     ]
    }
   ],
   "source": [
    "# проведем проверку по источника\n",
    "\n",
    "print ('1 группа: Яндекс vs Facebook')\n",
    "hyp_test(yd['event'],fb['event'])\n",
    "print ('----')\n",
    "\n",
    "print ('2 группа: Яндекс vs Instagram')\n",
    "hyp_test(yd['event'],ig['event'])\n",
    "print ('----')\n",
    "\n",
    "print ('3 группа: Яндекс vs Youtube')\n",
    "hyp_test(yd['event'],ut['event'])\n",
    "print ('----')\n",
    "\n",
    "print ('4 группа: Facebook vs Instagram')\n",
    "hyp_test(fb['event'],ig['event'])\n",
    "print ('----')\n",
    "\n",
    "print ('5 группа: Facebook vs Youtube')\n",
    "hyp_test(fb['event'],ut['event'])\n",
    "print ('----')\n",
    "\n",
    "print ('6 группа: Youtube vs Instagram')\n",
    "hyp_test(ut['event'],ig['event'])"
   ]
  },
  {
   "cell_type": "markdown",
   "id": "3d456980",
   "metadata": {},
   "source": [
    "При проверке данной гипотезы мы видим, что разницы между количество построек от каждого источника нет. "
   ]
  },
  {
   "cell_type": "markdown",
   "id": "b4a3404b",
   "metadata": {},
   "source": [
    "**Вывод:** При проверке первой гипотезы мы вяснили, что время прохождения игры зависит от тактики, которую выбрал игрок : исследовать или воевать. \n",
    "\n",
    "При проверке второй гипотезы мы убедились, что количество построек у игрока не зависит от рекламного источника."
   ]
  },
  {
   "cell_type": "markdown",
   "id": "985c9784",
   "metadata": {},
   "source": []
  },
  {
   "cell_type": "markdown",
   "id": "e258d8de",
   "metadata": {},
   "source": [
    "\n",
    "###  Общий вывод "
   ]
  },
  {
   "cell_type": "markdown",
   "id": "3e31daa5",
   "metadata": {},
   "source": [
    "Исходя из вышеизложенного можно сделать вывод, что:\n",
    "1. Всего за период исследования игру посетило более 13,5 тыс. игроков.\n",
    "    Из них:\n",
    "        - 57% не прошли игру;\n",
    "        - 29% прошли игру путем победы над другим игроком;\n",
    "        - 14% прошли игру путем исследования и построек.      \n",
    "2. Игроки, пришедшие из разных источников ведут себя одинаково ( доходят до конца, строят или сражаются)        \n",
    "3. Больше всего пользователей пришло их `yandex_direct` - 35% от общего количества, далее из `instagram_new_adverts` пришло - 25% и по 20% `facebook_ads` и `youtube_channel_reklama`.\n",
    "4. Среднее количество построек не зависит от источника рекламы, строят игроки одинаково.\n",
    "5.  Стоимость 1 дня рекламы самый дорогой у `yandex_direct` (320 y.e./день), самая  дешевая у  `youtube_channel_reklama` (152 y.e./день)\n",
    "6. Стоимость 1 привлеченного игрока самая низкая у `youtube_channel_reklama` - 0,4 y.e./чел., далее по стоимости идет `yandex_direct` 0,46 y.e./чел., у `instagram_new_adverts` - 0,65 y.e./чел. и  самая высокая стоимость у `facebook_ads`  0,79 y.e./чел. \n",
    "7. Исходя из данных мы предлагаем следующую **приоритизацию по источникам**:\n",
    "\n",
    "        1) yandex_direct ( хорошая цена за 1 игрока и  привлекли  больше всего пользователей (35% от всех привлеченных))\n",
    "        2) youtube_channel_reklama ( самая дешевая стоимость 1 игрока)\n",
    "        3) instagram_new_adverts ( стоимость 1 игрока выше среднего и привлекла 25% пользователей от всех привлеченных)\n",
    "        4) facebook_ads (самая дорогая стоимость игрока) \n",
    "8. При проверке гипотезы о том, что время завершения уровня различается в зависимости способа прохождения мы выяснили, что да , время прохождения зависит от того, какую тактику для себя выбирает игрок : исследовать или воевать.\n",
    "9. При проверке гипотезы, что  количество построек у пользователей зависит от источника рекламы из которой они пришли, мы выснили, что количество построек не зависит от источника рекламы. \n",
    " \n",
    " \n",
    " "
   ]
  }
 ],
 "metadata": {
  "ExecuteTimeLog": [
   {
    "duration": 1378,
    "start_time": "2023-04-06T13:51:03.098Z"
   },
   {
    "duration": 818,
    "start_time": "2023-04-06T13:51:04.478Z"
   },
   {
    "duration": 1312,
    "start_time": "2023-04-06T13:51:09.742Z"
   },
   {
    "duration": 561,
    "start_time": "2023-04-06T13:51:11.057Z"
   },
   {
    "duration": 4,
    "start_time": "2023-04-06T13:51:11.620Z"
   },
   {
    "duration": 346,
    "start_time": "2023-04-06T13:51:11.626Z"
   },
   {
    "duration": 75,
    "start_time": "2023-04-06T13:51:11.974Z"
   },
   {
    "duration": 37,
    "start_time": "2023-04-06T13:51:12.052Z"
   },
   {
    "duration": 77,
    "start_time": "2023-04-06T13:51:12.090Z"
   },
   {
    "duration": 54,
    "start_time": "2023-04-06T13:51:12.169Z"
   },
   {
    "duration": 14,
    "start_time": "2023-04-06T13:51:12.225Z"
   },
   {
    "duration": 34,
    "start_time": "2023-04-06T13:51:12.242Z"
   },
   {
    "duration": 23,
    "start_time": "2023-04-06T13:51:12.278Z"
   },
   {
    "duration": 102,
    "start_time": "2023-04-06T13:51:12.302Z"
   },
   {
    "duration": 11,
    "start_time": "2023-04-06T13:51:12.406Z"
   },
   {
    "duration": 752,
    "start_time": "2023-04-06T13:51:12.419Z"
   },
   {
    "duration": 73,
    "start_time": "2023-04-06T13:51:13.173Z"
   },
   {
    "duration": 470,
    "start_time": "2023-04-06T13:51:13.248Z"
   },
   {
    "duration": 62,
    "start_time": "2023-04-06T13:51:13.720Z"
   },
   {
    "duration": 104,
    "start_time": "2023-04-06T13:51:13.783Z"
   },
   {
    "duration": 558,
    "start_time": "2023-04-06T13:51:13.889Z"
   },
   {
    "duration": 2242,
    "start_time": "2023-04-06T13:51:14.449Z"
   },
   {
    "duration": 196,
    "start_time": "2023-04-06T13:51:16.693Z"
   },
   {
    "duration": 8,
    "start_time": "2023-04-06T13:51:16.891Z"
   },
   {
    "duration": 89,
    "start_time": "2023-04-06T13:51:16.901Z"
   },
   {
    "duration": 192,
    "start_time": "2023-04-06T13:51:16.992Z"
   },
   {
    "duration": 2321,
    "start_time": "2023-04-06T13:51:17.186Z"
   },
   {
    "duration": 17,
    "start_time": "2023-04-06T13:51:19.509Z"
   },
   {
    "duration": 119,
    "start_time": "2023-04-06T13:51:19.528Z"
   },
   {
    "duration": 4,
    "start_time": "2023-04-06T13:51:19.650Z"
   },
   {
    "duration": 46,
    "start_time": "2023-04-06T13:51:19.661Z"
   },
   {
    "duration": 6,
    "start_time": "2023-04-06T14:08:44.130Z"
   },
   {
    "duration": 4,
    "start_time": "2023-04-06T14:08:47.424Z"
   },
   {
    "duration": 5,
    "start_time": "2023-04-06T14:09:15.482Z"
   },
   {
    "duration": 49,
    "start_time": "2023-04-06T16:41:02.749Z"
   },
   {
    "duration": 1401,
    "start_time": "2023-04-06T16:41:19.014Z"
   },
   {
    "duration": 512,
    "start_time": "2023-04-06T16:41:20.416Z"
   },
   {
    "duration": 4,
    "start_time": "2023-04-06T16:41:20.930Z"
   },
   {
    "duration": 274,
    "start_time": "2023-04-06T16:41:20.936Z"
   },
   {
    "duration": 85,
    "start_time": "2023-04-06T16:41:21.211Z"
   },
   {
    "duration": 43,
    "start_time": "2023-04-06T16:41:21.297Z"
   },
   {
    "duration": 38,
    "start_time": "2023-04-06T16:41:21.341Z"
   },
   {
    "duration": 10,
    "start_time": "2023-04-06T16:41:21.380Z"
   },
   {
    "duration": 75,
    "start_time": "2023-04-06T16:41:21.391Z"
   },
   {
    "duration": 12,
    "start_time": "2023-04-06T16:41:21.469Z"
   },
   {
    "duration": 16,
    "start_time": "2023-04-06T16:41:21.483Z"
   },
   {
    "duration": 5,
    "start_time": "2023-04-06T16:41:21.501Z"
   },
   {
    "duration": 104,
    "start_time": "2023-04-06T16:41:21.507Z"
   },
   {
    "duration": 9,
    "start_time": "2023-04-06T16:41:21.612Z"
   },
   {
    "duration": 732,
    "start_time": "2023-04-06T16:41:21.622Z"
   },
   {
    "duration": 69,
    "start_time": "2023-04-06T16:41:22.355Z"
   },
   {
    "duration": 433,
    "start_time": "2023-04-06T16:41:22.426Z"
   },
   {
    "duration": 55,
    "start_time": "2023-04-06T16:41:22.860Z"
   },
   {
    "duration": 102,
    "start_time": "2023-04-06T16:41:22.916Z"
   },
   {
    "duration": 477,
    "start_time": "2023-04-06T16:41:23.019Z"
   },
   {
    "duration": 2217,
    "start_time": "2023-04-06T16:41:23.497Z"
   },
   {
    "duration": 176,
    "start_time": "2023-04-06T16:41:25.715Z"
   },
   {
    "duration": 8,
    "start_time": "2023-04-06T16:41:25.892Z"
   },
   {
    "duration": 80,
    "start_time": "2023-04-06T16:41:25.902Z"
   },
   {
    "duration": 179,
    "start_time": "2023-04-06T16:41:25.983Z"
   },
   {
    "duration": 2337,
    "start_time": "2023-04-06T16:41:26.163Z"
   },
   {
    "duration": 20,
    "start_time": "2023-04-06T16:41:28.502Z"
   },
   {
    "duration": 98,
    "start_time": "2023-04-06T16:41:28.526Z"
   },
   {
    "duration": 3,
    "start_time": "2023-04-06T16:41:28.626Z"
   },
   {
    "duration": 36,
    "start_time": "2023-04-06T16:41:28.640Z"
   },
   {
    "duration": 1363,
    "start_time": "2023-04-08T08:12:27.532Z"
   },
   {
    "duration": 663,
    "start_time": "2023-04-08T08:12:28.897Z"
   },
   {
    "duration": 5,
    "start_time": "2023-04-08T08:12:29.562Z"
   },
   {
    "duration": 401,
    "start_time": "2023-04-08T08:12:29.569Z"
   },
   {
    "duration": 85,
    "start_time": "2023-04-08T08:12:29.971Z"
   },
   {
    "duration": 41,
    "start_time": "2023-04-08T08:12:30.058Z"
   },
   {
    "duration": 69,
    "start_time": "2023-04-08T08:12:30.101Z"
   },
   {
    "duration": 10,
    "start_time": "2023-04-08T08:12:30.172Z"
   },
   {
    "duration": 119,
    "start_time": "2023-04-08T08:12:30.183Z"
   },
   {
    "duration": 104,
    "start_time": "2023-04-08T08:12:30.305Z"
   },
   {
    "duration": 46,
    "start_time": "2023-04-08T08:12:30.410Z"
   },
   {
    "duration": 50,
    "start_time": "2023-04-08T08:12:30.457Z"
   },
   {
    "duration": 40,
    "start_time": "2023-04-08T08:12:30.509Z"
   },
   {
    "duration": 96,
    "start_time": "2023-04-08T08:12:30.551Z"
   },
   {
    "duration": 90,
    "start_time": "2023-04-08T08:12:30.649Z"
   },
   {
    "duration": 191,
    "start_time": "2023-04-08T08:12:30.741Z"
   },
   {
    "duration": 115,
    "start_time": "2023-04-08T08:12:30.933Z"
   },
   {
    "duration": 136,
    "start_time": "2023-04-08T08:12:31.049Z"
   },
   {
    "duration": 125,
    "start_time": "2023-04-08T08:12:31.187Z"
   },
   {
    "duration": 753,
    "start_time": "2023-04-08T08:12:31.314Z"
   },
   {
    "duration": 80,
    "start_time": "2023-04-08T08:12:32.069Z"
   },
   {
    "duration": 489,
    "start_time": "2023-04-08T08:12:32.150Z"
   },
   {
    "duration": 65,
    "start_time": "2023-04-08T08:12:32.640Z"
   },
   {
    "duration": 101,
    "start_time": "2023-04-08T08:12:32.707Z"
   },
   {
    "duration": 261,
    "start_time": "2023-04-08T08:12:32.809Z"
   },
   {
    "duration": 2290,
    "start_time": "2023-04-08T08:12:33.072Z"
   },
   {
    "duration": 208,
    "start_time": "2023-04-08T08:12:35.364Z"
   },
   {
    "duration": 12,
    "start_time": "2023-04-08T08:12:35.575Z"
   },
   {
    "duration": 77,
    "start_time": "2023-04-08T08:12:35.589Z"
   },
   {
    "duration": 191,
    "start_time": "2023-04-08T08:12:35.668Z"
   },
   {
    "duration": 2041,
    "start_time": "2023-04-08T08:12:35.861Z"
   },
   {
    "duration": 15,
    "start_time": "2023-04-08T08:12:37.903Z"
   },
   {
    "duration": 97,
    "start_time": "2023-04-08T08:12:37.920Z"
   },
   {
    "duration": 4,
    "start_time": "2023-04-08T08:12:38.019Z"
   },
   {
    "duration": 43,
    "start_time": "2023-04-08T08:12:38.024Z"
   },
   {
    "duration": 95,
    "start_time": "2023-04-13T12:02:08.442Z"
   },
   {
    "duration": 1626,
    "start_time": "2023-04-13T12:02:21.116Z"
   },
   {
    "duration": 825,
    "start_time": "2023-04-13T12:02:22.752Z"
   },
   {
    "duration": 7,
    "start_time": "2023-04-13T12:02:23.579Z"
   },
   {
    "duration": 481,
    "start_time": "2023-04-13T12:02:23.589Z"
   },
   {
    "duration": 110,
    "start_time": "2023-04-13T12:02:24.072Z"
   },
   {
    "duration": 50,
    "start_time": "2023-04-13T12:02:24.184Z"
   },
   {
    "duration": 87,
    "start_time": "2023-04-13T12:02:24.238Z"
   },
   {
    "duration": 8,
    "start_time": "2023-04-13T12:02:24.327Z"
   },
   {
    "duration": 52,
    "start_time": "2023-04-13T12:02:24.337Z"
   },
   {
    "duration": 6,
    "start_time": "2023-04-13T12:02:24.394Z"
   },
   {
    "duration": 39,
    "start_time": "2023-04-13T12:02:24.402Z"
   },
   {
    "duration": 23,
    "start_time": "2023-04-13T12:02:24.443Z"
   },
   {
    "duration": 17,
    "start_time": "2023-04-13T12:02:24.468Z"
   },
   {
    "duration": 104,
    "start_time": "2023-04-13T12:02:24.488Z"
   },
   {
    "duration": 16,
    "start_time": "2023-04-13T12:02:24.594Z"
   },
   {
    "duration": 56,
    "start_time": "2023-04-13T12:02:24.611Z"
   },
   {
    "duration": 7,
    "start_time": "2023-04-13T12:02:24.670Z"
   },
   {
    "duration": 140,
    "start_time": "2023-04-13T12:02:24.679Z"
   },
   {
    "duration": 25,
    "start_time": "2023-04-13T12:02:24.821Z"
   },
   {
    "duration": 813,
    "start_time": "2023-04-13T12:02:24.849Z"
   },
   {
    "duration": 97,
    "start_time": "2023-04-13T12:02:25.663Z"
   },
   {
    "duration": 543,
    "start_time": "2023-04-13T12:02:25.762Z"
   },
   {
    "duration": 75,
    "start_time": "2023-04-13T12:02:26.313Z"
   },
   {
    "duration": 117,
    "start_time": "2023-04-13T12:02:26.389Z"
   },
   {
    "duration": 324,
    "start_time": "2023-04-13T12:02:26.508Z"
   },
   {
    "duration": 2778,
    "start_time": "2023-04-13T12:02:26.837Z"
   },
   {
    "duration": 249,
    "start_time": "2023-04-13T12:02:29.617Z"
   },
   {
    "duration": 9,
    "start_time": "2023-04-13T12:02:29.869Z"
   },
   {
    "duration": 113,
    "start_time": "2023-04-13T12:02:29.880Z"
   },
   {
    "duration": 230,
    "start_time": "2023-04-13T12:02:29.995Z"
   },
   {
    "duration": 2624,
    "start_time": "2023-04-13T12:02:30.227Z"
   },
   {
    "duration": 30,
    "start_time": "2023-04-13T12:02:32.856Z"
   },
   {
    "duration": 153,
    "start_time": "2023-04-13T12:02:32.888Z"
   },
   {
    "duration": 6,
    "start_time": "2023-04-13T12:02:33.044Z"
   },
   {
    "duration": 48,
    "start_time": "2023-04-13T12:02:33.055Z"
   },
   {
    "duration": 728,
    "start_time": "2023-04-13T13:51:31.630Z"
   }
  ],
  "kernelspec": {
   "display_name": "Python 3 (ipykernel)",
   "language": "python",
   "name": "python3"
  },
  "language_info": {
   "codemirror_mode": {
    "name": "ipython",
    "version": 3
   },
   "file_extension": ".py",
   "mimetype": "text/x-python",
   "name": "python",
   "nbconvert_exporter": "python",
   "pygments_lexer": "ipython3",
   "version": "3.9.13"
  },
  "toc": {
   "base_numbering": 1,
   "nav_menu": {},
   "number_sections": true,
   "sideBar": true,
   "skip_h1_title": true,
   "title_cell": "Table of Contents",
   "title_sidebar": "Contents",
   "toc_cell": false,
   "toc_position": {},
   "toc_section_display": true,
   "toc_window_display": false
  }
 },
 "nbformat": 4,
 "nbformat_minor": 5
}
